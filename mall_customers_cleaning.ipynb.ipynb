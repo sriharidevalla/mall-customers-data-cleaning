{
  "nbformat": 4,
  "nbformat_minor": 0,
  "metadata": {
    "colab": {
      "provenance": []
    },
    "kernelspec": {
      "name": "python3",
      "display_name": "Python 3"
    },
    "language_info": {
      "name": "python"
    }
  },
  "cells": [
    {
      "cell_type": "code",
      "source": [
        "import pandas as pd\n",
        "import matplotlib.pyplot as plt\n",
        "\n",
        "df = pd.read_csv('Mall_Customers.csv')\n",
        "df = df.drop_duplicates()\n",
        "df['Gender'] = df['Gender'].str.strip().str.capitalize()\n",
        "\n",
        "Q1 = df['Annual Income (k$)'].quantile(0.25)\n",
        "Q3 = df['Annual Income (k$)'].quantile(0.75)\n",
        "IQR = Q3 - Q1\n",
        "upper_bound = Q3 + 1.5 * IQR\n",
        "\n",
        "df.loc[df['Annual Income (k$)'] > upper_bound, 'Annual Income (k$)'] = upper_bound\n",
        "\n",
        "df.columns = ['customer_id', 'gender', 'age', 'annual_income', 'spending_score']\n",
        "df['age'] = df['age'].astype(int)\n",
        "\n",
        "cleaned_df = df.drop(columns=['customer_id'])\n",
        "cleaned_df.to_csv('cleaned_mall_customers.csv', index=False)\n"
      ],
      "metadata": {
        "id": "DtOkzKZEb0uA"
      },
      "execution_count": null,
      "outputs": []
    }
  ]
}